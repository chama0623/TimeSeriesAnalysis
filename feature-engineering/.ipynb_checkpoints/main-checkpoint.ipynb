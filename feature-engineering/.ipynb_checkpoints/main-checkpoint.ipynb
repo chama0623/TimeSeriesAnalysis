{
 "cells": [
  {
   "cell_type": "code",
   "execution_count": 1,
   "id": "4fd608af-08ca-48ee-a8e5-4e525b3de3a4",
   "metadata": {},
   "outputs": [],
   "source": [
    "import pandas as pd\n",
    "import numpy as np\n",
    "import matplotlib.pyplot as plt"
   ]
  },
  {
   "cell_type": "markdown",
   "id": "668d65ed-a50a-47e9-8093-f1f058c451f6",
   "metadata": {},
   "source": [
    "## 簡単な例"
   ]
  },
  {
   "cell_type": "code",
   "execution_count": 2,
   "id": "315fcf94-465a-46ad-877d-9520fee64196",
   "metadata": {},
   "outputs": [
    {
     "data": {
      "text/html": [
       "<div>\n",
       "<style scoped>\n",
       "    .dataframe tbody tr th:only-of-type {\n",
       "        vertical-align: middle;\n",
       "    }\n",
       "\n",
       "    .dataframe tbody tr th {\n",
       "        vertical-align: top;\n",
       "    }\n",
       "\n",
       "    .dataframe thead th {\n",
       "        text-align: right;\n",
       "    }\n",
       "</style>\n",
       "<table border=\"1\" class=\"dataframe\">\n",
       "  <thead>\n",
       "    <tr style=\"text-align: right;\">\n",
       "      <th></th>\n",
       "      <th>時間</th>\n",
       "      <th>気温(華氏)</th>\n",
       "    </tr>\n",
       "  </thead>\n",
       "  <tbody>\n",
       "    <tr>\n",
       "      <th>0</th>\n",
       "      <td>月曜の朝</td>\n",
       "      <td>35</td>\n",
       "    </tr>\n",
       "    <tr>\n",
       "      <th>1</th>\n",
       "      <td>月曜の昼</td>\n",
       "      <td>52</td>\n",
       "    </tr>\n",
       "    <tr>\n",
       "      <th>2</th>\n",
       "      <td>月曜の夜</td>\n",
       "      <td>15</td>\n",
       "    </tr>\n",
       "    <tr>\n",
       "      <th>3</th>\n",
       "      <td>火曜の朝</td>\n",
       "      <td>37</td>\n",
       "    </tr>\n",
       "    <tr>\n",
       "      <th>4</th>\n",
       "      <td>火曜の昼</td>\n",
       "      <td>52</td>\n",
       "    </tr>\n",
       "    <tr>\n",
       "      <th>5</th>\n",
       "      <td>火曜の夜</td>\n",
       "      <td>15</td>\n",
       "    </tr>\n",
       "    <tr>\n",
       "      <th>6</th>\n",
       "      <td>水曜の朝</td>\n",
       "      <td>37</td>\n",
       "    </tr>\n",
       "    <tr>\n",
       "      <th>7</th>\n",
       "      <td>水曜の昼</td>\n",
       "      <td>54</td>\n",
       "    </tr>\n",
       "    <tr>\n",
       "      <th>8</th>\n",
       "      <td>水曜の夜</td>\n",
       "      <td>16</td>\n",
       "    </tr>\n",
       "    <tr>\n",
       "      <th>9</th>\n",
       "      <td>木曜の朝</td>\n",
       "      <td>39</td>\n",
       "    </tr>\n",
       "    <tr>\n",
       "      <th>10</th>\n",
       "      <td>木曜の昼</td>\n",
       "      <td>51</td>\n",
       "    </tr>\n",
       "    <tr>\n",
       "      <th>11</th>\n",
       "      <td>木曜の夜</td>\n",
       "      <td>12</td>\n",
       "    </tr>\n",
       "    <tr>\n",
       "      <th>12</th>\n",
       "      <td>金曜の朝</td>\n",
       "      <td>41</td>\n",
       "    </tr>\n",
       "    <tr>\n",
       "      <th>13</th>\n",
       "      <td>金曜の昼</td>\n",
       "      <td>55</td>\n",
       "    </tr>\n",
       "    <tr>\n",
       "      <th>14</th>\n",
       "      <td>金曜の夜</td>\n",
       "      <td>20</td>\n",
       "    </tr>\n",
       "    <tr>\n",
       "      <th>15</th>\n",
       "      <td>土曜の朝</td>\n",
       "      <td>43</td>\n",
       "    </tr>\n",
       "    <tr>\n",
       "      <th>16</th>\n",
       "      <td>土曜の昼</td>\n",
       "      <td>58</td>\n",
       "    </tr>\n",
       "    <tr>\n",
       "      <th>17</th>\n",
       "      <td>土曜の夜</td>\n",
       "      <td>22</td>\n",
       "    </tr>\n",
       "    <tr>\n",
       "      <th>18</th>\n",
       "      <td>日曜の朝</td>\n",
       "      <td>46</td>\n",
       "    </tr>\n",
       "    <tr>\n",
       "      <th>19</th>\n",
       "      <td>日曜の昼</td>\n",
       "      <td>61</td>\n",
       "    </tr>\n",
       "    <tr>\n",
       "      <th>20</th>\n",
       "      <td>日曜の夜</td>\n",
       "      <td>35</td>\n",
       "    </tr>\n",
       "  </tbody>\n",
       "</table>\n",
       "</div>"
      ],
      "text/plain": [
       "      時間  気温(華氏)\n",
       "0   月曜の朝      35\n",
       "1   月曜の昼      52\n",
       "2   月曜の夜      15\n",
       "3   火曜の朝      37\n",
       "4   火曜の昼      52\n",
       "5   火曜の夜      15\n",
       "6   水曜の朝      37\n",
       "7   水曜の昼      54\n",
       "8   水曜の夜      16\n",
       "9   木曜の朝      39\n",
       "10  木曜の昼      51\n",
       "11  木曜の夜      12\n",
       "12  金曜の朝      41\n",
       "13  金曜の昼      55\n",
       "14  金曜の夜      20\n",
       "15  土曜の朝      43\n",
       "16  土曜の昼      58\n",
       "17  土曜の夜      22\n",
       "18  日曜の朝      46\n",
       "19  日曜の昼      61\n",
       "20  日曜の夜      35"
      ]
     },
     "execution_count": 2,
     "metadata": {},
     "output_type": "execute_result"
    }
   ],
   "source": [
    "df = pd.read_csv(\"./data/sample_temperature_data.csv\")\n",
    "df"
   ]
  },
  {
   "cell_type": "code",
   "execution_count": 3,
   "id": "a09bb61e-affc-47b9-9a95-2ded22f2e269",
   "metadata": {},
   "outputs": [
    {
     "data": {
      "image/png": "[encoded data removed]",
      "text/plain": [
       "<Figure size 432x288 with 1 Axes>"
      ]
     },
     "metadata": {},
     "output_type": "display_data"
    }
   ],
   "source": [
    "plt.figure(facecolor=\"white\")\n",
    "plt.plot(df[\"気温(華氏)\"])\n",
    "plt.show()"
   ]
  },
  {
   "cell_type": "markdown",
   "id": "e2bb299c-c77e-4296-a6a3-ca14a145d691",
   "metadata": {},
   "source": [
    "上でプロットしたデータはある一週間の華氏温度である. プロットから周期性や全体の増加的なトレンドを見ることができる. しかしデータベースではプロット画像を保管できないため入力として画像を受け付ける手法のほとんどは画像をそぎ落として要約指標にする. 先の数値例を時系列として表す代わりに次のようなもので表すことができる. これによって21個の時系列を5個の数に要約できる. このように時系列データを詳細を失わずにデータを圧縮することができる. \n",
    "- 日次もしくは周期性\n",
    "- 上昇トレンド, 傾きを計算してより定量的に表せる\n",
    "- 朝, 昼, 夜それぞれの平均値\n"
   ]
  },
  {
   "cell_type": "code",
   "execution_count": null,
   "id": "12dccdb0-973d-4a65-bb73-0695c6bc61ed",
   "metadata": {},
   "outputs": [],
   "source": []
  }
 ],
 "metadata": {
  "kernelspec": {
   "display_name": "Python 3 (ipykernel)",
   "language": "python",
   "name": "python3"
  },
  "language_info": {
   "codemirror_mode": {
    "name": "ipython",
    "version": 3
   },
   "file_extension": ".py",
   "mimetype": "text/x-python",
   "name": "python",
   "nbconvert_exporter": "python",
   "pygments_lexer": "ipython3",
   "version": "3.8.10"
  }
 },
 "nbformat": 4,
 "nbformat_minor": 5
}
