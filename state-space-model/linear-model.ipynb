{
 "cells": [
  {
   "cell_type": "code",
   "execution_count": 1,
   "id": "e8167682-cc71-4a8a-b98c-4815e52893b0",
   "metadata": {},
   "outputs": [],
   "source": [
    "import numpy as np\n",
    "import matplotlib.pyplot as plt"
   ]
  },
  {
   "cell_type": "markdown",
   "id": "302ec9fb-da07-4d5a-b6cd-eeb8c46fa9d6",
   "metadata": {},
   "source": [
    "# 線形カルマンフィルタ\n",
    "\n",
    "このノートでは線形カルマンフィルタの動作を確認する(ライブラリの使い方ではない). 1次元の線形カルマンフィルタは次のアルゴリズムである.  \n",
    "線形離散時間状態空間モデル  \n",
    "$$\\boldsymbol{x}(k+1) = A\\boldsymbol{x}(k)+\\boldsymbol{b}+v(k)$$\n",
    "$$y(k) = {}^tc\\boldsymbol{x}(k)+w(k)$$\n",
    "\n",
    "1. 予測ステップ\n",
    "$$\\boldsymbol{\\hat{x}}^{-}(k) = A\\boldsymbol{\\hat{x}}^{-}(k-1)$$\n",
    "$$P^{-}(k) = AP(k-1)^{t}A+\\sigma^2_v \\boldsymbol{b}^t \\boldsymbol{b}$$\n",
    "2. フィルタリングステップ\n",
    "$$g(k) = \\frac{P^{-}(k)\\boldsymbol{c}}{{}^t\\boldsymbol{c}P^{-}(k)\\boldsymbol{c}+\\sigma^2_w}$$\n",
    "$$\\boldsymbol{\\hat{x}}(k) = \\boldsymbol{\\hat{x}}^{-}(k)+g(k)(y(k)-{}^t\\boldsymbol{c}\\boldsymbol{\\hat{x}}^{-}(k))$$\n",
    "$$P(k) = (\\boldsymbol{I}-g(k)^tc)P^{-}(k)$$"
   ]
  },
  {
   "cell_type": "markdown",
   "id": "89a376ac-8df1-4684-a782-73dcbba11b33",
   "metadata": {},
   "source": [
    "## 例 ウィナー過程(1次元, 線形カルマンフィルタの動作確認)\n",
    "1次元カルマンフィルタを考える. $A=1, b=0, {}^tc=1$とする. また初期値$x(0)=0, \\hat{x}(0)=0, P(0)=0$, システム雑音と観測雑音の分散$\\sigma^2_v=1,\\sigma^2_w=2$とする. \n",
    "またy(1)=2.1, y(2)= 1.5, y(3) = 2.6, y(4) = 3.2が観測されたとする."
   ]
  },
  {
   "cell_type": "code",
   "execution_count": 13,
   "id": "1bd763b6-adeb-4864-b3e2-fc87baffb430",
   "metadata": {},
   "outputs": [],
   "source": [
    "def kalman_filter_1dim(A,b,c,y_obs,N):\n",
    "    sigma_system = 1 # システム雑音\n",
    "    sigma_obs = 2 # 観測雑音\n",
    "    x_pre = 0 # x(k-1)\n",
    "    p_pre = 0\n",
    "    for k in range(1,N):\n",
    "        print(f\"step {k}\")\n",
    "        # 予測ステップ\n",
    "        x_minus = x_pre\n",
    "        p_minus = p_pre+sigma_system\n",
    "        print(f\"事前状態推定値x-({k}) = {x_minus}\")\n",
    "        print(f\"事前誤差共分散行列p-({k}) = {p_minus}\")\n",
    "        \n",
    "        # フィルタリングステップ\n",
    "        kalman_gain = p_minus/(p_minus+sigma_obs)\n",
    "        x_hat = x_minus + kalman_gain*(y_obs[k-1]-x_minus)\n",
    "        p = (1-kalman_gain)*p_minus\n",
    "        print(f\"カルマンゲインg({k}) = {kalman_gain}\")\n",
    "        print(f\"状態推定値x_hat({k}) = {x_hat}\")\n",
    "        print(f\"事後誤差共分散行列p({k}) = {p}\\n\")\n",
    "        \n",
    "        # 次のステップの準備\n",
    "        x_pre = x_hat\n",
    "        p_pre = p"
   ]
  },
  {
   "cell_type": "code",
   "execution_count": 15,
   "id": "f5c03c25-07c8-435d-aceb-3528f9f46b95",
   "metadata": {},
   "outputs": [
    {
     "name": "stdout",
     "output_type": "stream",
     "text": [
      "step 1\n",
      "事前状態推定値x-(1) = 0\n",
      "事前誤差共分散行列p-(1) = 1\n",
      "カルマンゲインg(1) = 0.3333333333333333\n",
      "状態推定値x_hat(1) = 0.7\n",
      "事後誤差共分散行列p(1) = 0.6666666666666667\n",
      "\n",
      "step 2\n",
      "事前状態推定値x-(2) = 0.7\n",
      "事前誤差共分散行列p-(2) = 1.6666666666666667\n",
      "カルマンゲインg(2) = 0.45454545454545453\n",
      "状態推定値x_hat(2) = 1.0636363636363635\n",
      "事後誤差共分散行列p(2) = 0.9090909090909091\n",
      "\n",
      "step 3\n",
      "事前状態推定値x-(3) = 1.0636363636363635\n",
      "事前誤差共分散行列p-(3) = 1.9090909090909092\n",
      "カルマンゲインg(3) = 0.48837209302325585\n",
      "状態推定値x_hat(3) = 1.8139534883720931\n",
      "事後誤差共分散行列p(3) = 0.9767441860465117\n",
      "\n",
      "step 4\n",
      "事前状態推定値x-(4) = 1.8139534883720931\n",
      "事前誤差共分散行列p-(4) = 1.9767441860465116\n",
      "カルマンゲインg(4) = 0.49707602339181284\n",
      "状態推定値x_hat(4) = 2.502923976608187\n",
      "事後誤差共分散行列p(4) = 0.9941520467836259\n",
      "\n"
     ]
    }
   ],
   "source": [
    "A=1\n",
    "b=0\n",
    "c=1\n",
    "y_obs = [2.1,1.5,2.6,3.2]\n",
    "\n",
    "kalman_filter_1dim(A,b,c,y_obs,5)"
   ]
  },
  {
   "cell_type": "markdown",
   "id": "101d3899-8f16-4cf2-a347-98e884130c76",
   "metadata": {},
   "source": [
    "事後共分散はkが大きくなるにつれて1に向かうことが予想できる. カルマンゲインは0.5に向かっていることがわかる. このようにカルマンゲインが一定値をとる場合定常カルマンフィルタという."
   ]
  },
  {
   "cell_type": "markdown",
   "id": "fdef028e-55b2-4722-9d2b-03e63bafdbdb",
   "metadata": {},
   "source": [
    "コードは省略するが次のような問題にもカルマンフィルタを適用できる. 2次元座標においてあるロボットがk=0に原点を出発して, 速度v=(2,2)で動くとする. ロボットの進路は風の影響を受けて(観測雑音), 毎秒ごとに観測できるGPSによる位置座標には計測誤差(システム雑音)があるとする. このとき, 観測された奇跡から実際の軌跡を推定する. https://satomacoto.blogspot.com/2011/06/python.html"
   ]
  },
  {
   "cell_type": "code",
   "execution_count": null,
   "id": "bcf83758-26af-4bd4-b8f7-a1f9815cabb6",
   "metadata": {},
   "outputs": [],
   "source": []
  }
 ],
 "metadata": {
  "kernelspec": {
   "display_name": "Python 3 (ipykernel)",
   "language": "python",
   "name": "python3"
  },
  "language_info": {
   "codemirror_mode": {
    "name": "ipython",
    "version": 3
   },
   "file_extension": ".py",
   "mimetype": "text/x-python",
   "name": "python",
   "nbconvert_exporter": "python",
   "pygments_lexer": "ipython3",
   "version": "3.8.10"
  }
 },
 "nbformat": 4,
 "nbformat_minor": 5
}
