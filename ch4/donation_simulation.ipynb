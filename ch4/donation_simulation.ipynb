{
 "cells": [
  {
   "cell_type": "code",
   "execution_count": 1,
   "metadata": {},
   "outputs": [],
   "source": [
    "import numpy as np\n",
    "import pandas as pd"
   ]
  },
  {
   "cell_type": "markdown",
   "metadata": {},
   "source": [
    "# 寄付額のシミュレーション"
   ]
  },
  {
   "cell_type": "code",
   "execution_count": 7,
   "metadata": {},
   "outputs": [
    {
     "data": {
      "text/html": [
       "<div>\n",
       "<style scoped>\n",
       "    .dataframe tbody tr th:only-of-type {\n",
       "        vertical-align: middle;\n",
       "    }\n",
       "\n",
       "    .dataframe tbody tr th {\n",
       "        vertical-align: top;\n",
       "    }\n",
       "\n",
       "    .dataframe thead th {\n",
       "        text-align: right;\n",
       "    }\n",
       "</style>\n",
       "<table border=\"1\" class=\"dataframe\">\n",
       "  <thead>\n",
       "    <tr style=\"text-align: right;\">\n",
       "      <th></th>\n",
       "      <th>yearJoined</th>\n",
       "      <th>userStats</th>\n",
       "    </tr>\n",
       "  </thead>\n",
       "  <tbody>\n",
       "    <tr>\n",
       "      <th>0</th>\n",
       "      <td>2017</td>\n",
       "      <td>silver</td>\n",
       "    </tr>\n",
       "    <tr>\n",
       "      <th>1</th>\n",
       "      <td>2016</td>\n",
       "      <td>bronze</td>\n",
       "    </tr>\n",
       "    <tr>\n",
       "      <th>2</th>\n",
       "      <td>2016</td>\n",
       "      <td>bronze</td>\n",
       "    </tr>\n",
       "    <tr>\n",
       "      <th>3</th>\n",
       "      <td>2014</td>\n",
       "      <td>bronze</td>\n",
       "    </tr>\n",
       "    <tr>\n",
       "      <th>4</th>\n",
       "      <td>2018</td>\n",
       "      <td>bronze</td>\n",
       "    </tr>\n",
       "  </tbody>\n",
       "</table>\n",
       "</div>"
      ],
      "text/plain": [
       "  yearJoined userStats\n",
       "0       2017    silver\n",
       "1       2016    bronze\n",
       "2       2016    bronze\n",
       "3       2014    bronze\n",
       "4       2018    bronze"
      ]
     },
     "execution_count": 7,
     "metadata": {},
     "output_type": "execute_result"
    }
   ],
   "source": [
    "# 会員ステータス\n",
    "years = [\"2014\",\"2015\",\"2016\",\"2017\",\"2018\"]\n",
    "userStatus = [\"bronze\",\"silver\",\"gold\",\"inactive\"]\n",
    "\n",
    "# 1000人分のステータスを生成, pは各年の生起確率\n",
    "userYears = np.random.choice(years,1000,p=[0.1,0.1,0.15,0.30,0.35])\n",
    "userStats = np.random.choice(userStatus,1000,p=[0.5,0.3,0.1,0.1])\n",
    "yearJoined = pd.DataFrame({\"yearJoined\":userYears,\"userStats\":userStats})\n",
    "yearJoined.head()"
   ]
  },
  {
   "cell_type": "markdown",
   "metadata": {},
   "source": [
    "団体は毎週3回メールを送ることを想定する. 会員は次の三種類の行動パターンをとることを想定する.\n",
    "- パターン1 : メールを一切開かない\n",
    "- パターン2 : メール開封率(関与率)が一定\n",
    "- パターン3 : 関与率に変化がある"
   ]
  },
  {
   "cell_type": "code",
   "execution_count": 38,
   "metadata": {},
   "outputs": [],
   "source": [
    "NUM_EMAILS_SENT_WEEKLY = 3\n",
    "\n",
    "# パターン1\n",
    "def never_opens(period_rng):\n",
    "    return []\n",
    "\n",
    "def constant_open_rate(period_rng):\n",
    "    n,p = NUM_EMAILS_SENT_WEEKLY,np.random.uniform(0,1)\n",
    "    # 二項分布に従う確率をlen(period_rng)の長さの配列で返す\n",
    "    num_opened = np.random.binomial(n,p,len(period_rng))\n",
    "    return num_opened\n",
    "\n",
    "def increasing_open_rate(period_rng):\n",
    "    # random.uniform() : 第一引数から第二引数の範囲の乱数を返す\n",
    "    return open_rate_with_factor_change(period_rng,np.random.uniform(1.01,1.30))\n",
    "\n",
    "def decreasing_open_rate(period_rng):\n",
    "    return open_rate_with_factor_change(period_rng,np.random.uniform(0.5,0.99))\n",
    "\n",
    "def open_rate_with_factor_change(period_rng,fac):\n",
    "    if len(period_rng)<1:\n",
    "        return []\n",
    "    else:\n",
    "        # np.random.radient() : 第一引数から第二引数の範囲の整数を第三引数のサイズで返す\n",
    "        times = np.random.randint(0,len(period_rng),int(0.1*len(period_rng)))\n",
    "        num_opened = np.zeros(len(period_rng))\n",
    "        # 週3回メールを送るシミュレーション\n",
    "        for prd in range(0,len(period_rng),2):\n",
    "            try:\n",
    "                n,p = NUM_EMAILS_SENT_WEEKLY,np.random.uniform(0,1)\n",
    "                num_opened[prd:(prd+2)]=np.random.binomial(n,p,2)\n",
    "            except:\n",
    "                num_opened[prd] = np.random.binomial(n,p,1)\n",
    "        for t in range(len(times)):\n",
    "            num_opened[times[t]] = 0\n",
    "        return num_opened"
   ]
  },
  {
   "cell_type": "markdown",
   "metadata": {},
   "source": [
    "次の仮定をもとに寄付行動を定義する.\n",
    "- 寄付額はユーザーが会員であった期間に依存する\n",
    "- 各ユーザーの裕福ステータスを生成し, 寄付額は各ユーザーが寄付用に取り分けておいた安定した金額に関係する"
   ]
  },
  {
   "cell_type": "code",
   "execution_count": 27,
   "metadata": {},
   "outputs": [],
   "source": [
    "# 寄付行動\n",
    "def produce_donations(period_rng,user_behavior,num_emails,user_id,user_join_year):\n",
    "    # ユーザーの所持金のリストを定義\n",
    "    donations_amounts = np.array([0,25,50,70,100,250,500,1000,1500,2000])\n",
    "    # ユーザーの所持金を生成\n",
    "    user_has = np.random.choice(donations_amounts)\n",
    "    email_fraction = num_emails/(NUM_EMAILS_SENT_WEEKLY*len(period_rng))\n",
    "    # ユーザーの寄付額\n",
    "    user_gives = user_has*email_fraction\n",
    "    #ユーザーが寄付できる最大額のインデックスを取得\n",
    "    user_gives_idx = np.where(user_gives>=donations_amounts)[0][-1]\n",
    "    user_gives_idx = max(min(user_gives_idx,len(donations_amounts)-2),1)\n",
    "    num_times_gave = np.random.poisson(2)*(2018-user_join_year)\n",
    "    # 期間を生成\n",
    "    times = np.random.randint(0,len(period_rng),num_times_gave)\n",
    "    dons = pd.DataFrame({\"user\":[],\"amount\":[],\"timestamp\":[]})\n",
    "    for n in range(num_times_gave):\n",
    "        donation = donations_amounts[user_gives_idx+np.random.binomial(1,.3)]\n",
    "        ts = str(period_rng[times[n]].start_time + random_weekly_time_delta())\n",
    "        dons = dons.append(pd.DataFrame({\"user\":[user_id],\"amount\":[donation],\"timestamp\":[ts]}))\n",
    "    # 寄付額が0のイベントを削除\n",
    "    if dons.shape[0]>0:\n",
    "        dons = dons[dons.amount!=0]\n",
    "        \n",
    "    return dons"
   ]
  },
  {
   "cell_type": "code",
   "execution_count": 42,
   "metadata": {},
   "outputs": [],
   "source": [
    "def random_weekly_time_delta():\n",
    "    \"\"\"寄付を行った曜日と時刻を生成する関数\n",
    "    \"\"\"\n",
    "    \n",
    "    days_of_week = [d for d in range(7)]\n",
    "    hours_of_day = [h for h in range(11,23)]\n",
    "    minute_of_hour = [m for m in range(60)]\n",
    "    second_of_minute = [s for s in range(60)]\n",
    "    return (pd.Timedelta(str(np.random.choice(days_of_week))+\" days\")+\n",
    "           pd.Timedelta(str(np.random.choice(hours_of_day))+\" hours\")+\n",
    "           pd.Timedelta(str(np.random.choice(minute_of_hour))+\" minute\")+\n",
    "           pd.Timedelta(str(np.random.choice(second_of_minute))+\" seconds\"))"
   ]
  },
  {
   "cell_type": "code",
   "execution_count": 43,
   "metadata": {},
   "outputs": [],
   "source": [
    "# シミュレーションの実行\n",
    "behaviors = [\n",
    "    never_opens,\n",
    "    constant_open_rate,\n",
    "    increasing_open_rate,\n",
    "    decreasing_open_rate\n",
    "]\n",
    "member_behaviors = np.random.choice(behaviors,1000,[0.2,0.5,0.1,0.2])\n",
    "rng = pd.period_range(\"2015-02-14\",\"2018-06-01\",freq=\"W\")\n",
    "emails = pd.DataFrame({\"member\":[],\"week\":[],\"emailsOpened\":[]})\n",
    "donations = pd.DataFrame({\"member\":[],\"amount\":[],\"timestamp\":[]})\n",
    "\n",
    "for idx in range(yearJoined.shape[0]):\n",
    "    # 入会した日を生成\n",
    "    join_date = pd.Timestamp(yearJoined.iloc[idx].yearJoined)+pd.Timedelta(str(np.random.randint(0,365))+\" days\")\n",
    "    join_date = min(join_date,pd.Timestamp(\"2018-06-01\"))\n",
    "    # ユーザーの入会以前のタイムスタンプがあってはいけない\n",
    "    member_rng = rng[rng.start_time>join_date]\n",
    "    \n",
    "    if len(member_rng)<1:\n",
    "        continue\n",
    "    info = member_behaviors[idx](member_rng)\n",
    "    if len(info)==len(member_rng):\n",
    "        emails = emails.append(pd.DataFrame({\n",
    "            \"member\": [idx]*len(info),\n",
    "            \"week\" : [str(r.start_time) for r in member_rng],\n",
    "            \"emailsOpened\" : info\n",
    "        }))\n",
    "        donations = donations.append(produce_donations(member_rng,member_behaviors[idx],sum(info),idx,join_date.year))"
   ]
  },
  {
   "cell_type": "code",
   "execution_count": 48,
   "metadata": {},
   "outputs": [
    {
     "data": {
      "text/plain": [
       "<AxesSubplot:xlabel='timestamp'>"
      ]
     },
     "execution_count": 48,
     "metadata": {},
     "output_type": "execute_result"
    },
    {
     "data": {
      "image/png": "[encoded data removed]",
      "text/plain": [
       "<Figure size 432x288 with 1 Axes>"
      ]
     },
     "metadata": {
      "needs_background": "light"
     },
     "output_type": "display_data"
    }
   ],
   "source": [
    "donations.set_index(pd.to_datetime(donations.timestamp),inplace=True)\n",
    "donations.sort_index(inplace=True)\n",
    "donations.groupby(pd.Grouper(freq=\"M\")).amount.sum().plot()"
   ]
  },
  {
   "cell_type": "code",
   "execution_count": null,
   "metadata": {},
   "outputs": [],
   "source": []
  }
 ],
 "metadata": {
  "kernelspec": {
   "display_name": "Python 3",
   "language": "python",
   "name": "python3"
  },
  "language_info": {
   "codemirror_mode": {
    "name": "ipython",
    "version": 3
   },
   "file_extension": ".py",
   "mimetype": "text/x-python",
   "name": "python",
   "nbconvert_exporter": "python",
   "pygments_lexer": "ipython3",
   "version": "3.8.5"
  },
  "toc": {
   "base_numbering": 1,
   "nav_menu": {},
   "number_sections": true,
   "sideBar": true,
   "skip_h1_title": false,
   "title_cell": "Table of Contents",
   "title_sidebar": "Contents",
   "toc_cell": false,
   "toc_position": {},
   "toc_section_display": true,
   "toc_window_display": false
  }
 },
 "nbformat": 4,
 "nbformat_minor": 4
}
