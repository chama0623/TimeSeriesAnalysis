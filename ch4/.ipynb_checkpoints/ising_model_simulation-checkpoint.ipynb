{
 "cells": [
  {
   "cell_type": "code",
   "execution_count": 6,
   "metadata": {},
   "outputs": [],
   "source": [
    "import numpy as np\n",
    "import matplotlib.pyplot as plt"
   ]
  },
  {
   "cell_type": "markdown",
   "metadata": {},
   "source": [
    "# イジングモデル"
   ]
  },
  {
   "cell_type": "markdown",
   "metadata": {},
   "source": [
    "イジングモデルは磁性体の性質を表す統計力学のモデルである. 初期状態ではランダムに上向きor下向きの二種類の状態をとる格子点が, 隣接点との相互作用でその状態が更新されることをシミュレーションする.\n",
    "\n",
    "MCMCシミュレーションの処理手順は次の通りである.\n",
    "1. 個々の格子点でそれぞれの初期状態をランダムに選択する.\n",
    "2. 各タイムステップで1つの格子点を選びその方向を反転させる.\n",
    "3. 次の物理法則のもとで反転の結果変化したエネルギーを計算する.\n",
    "    - エネルギーが負のとき, 常に優先される低いエネルギー状態への遷移を意味するのでその遷移を保ったまま次のステップに移る.\n",
    "    - エネルギーが負でないとき, 受容確率$e^{-energy　change}$でそれを受容する.\n",
    "4. ステップ2およびステップ3を収束するまで無期限に繰り返して何らかの全体の測定量の最も起こりそうな状態を判定する."
   ]
  },
  {
   "cell_type": "code",
   "execution_count": 3,
   "metadata": {},
   "outputs": [],
   "source": [
    "# 物理的配置\n",
    "N=5 # 格子の幅\n",
    "M=5 # 格子の高さ\n",
    "# 温度\n",
    "temperature = 0.5\n",
    "BETA = 1/temperature"
   ]
  },
  {
   "cell_type": "code",
   "execution_count": 7,
   "metadata": {},
   "outputs": [],
   "source": [
    "def initRandState(N,M):\n",
    "    \"\"\"初期状態をランダムに生成\n",
    "    \"\"\"\n",
    "    \n",
    "    # np.random.choice\n",
    "    # 第一引数 : 出目\n",
    "    # 引数size : 出力サイズ\n",
    "    block = np.random.choice([-1,1],size=(N,M))\n",
    "    return block"
   ]
  },
  {
   "cell_type": "code",
   "execution_count": 9,
   "metadata": {},
   "outputs": [],
   "source": [
    "def costForCenterState(state,i,j,n,m):\n",
    "    \"\"\"ある物体の向きとその周囲の物体の相対的な向きから決まるエネルギー\"\"\"\n",
    "    centerS = state[i,j]\n",
    "    # 4近傍\n",
    "    # %nは周期的な境界条件を課すため\n",
    "    neighbors = [((i+1)%n,j),((i-1)%n,j),(i,(j+1)%m),(i,(j-1)%m)]\n",
    "    interactionE = [state[x,y]*centerS for (x,y) in neighbors]\n",
    "    return np.sum(interactionE)"
   ]
  },
  {
   "cell_type": "code",
   "execution_count": 10,
   "metadata": {},
   "outputs": [],
   "source": [
    "def magnetizationForState(state):\n",
    "    \"\"\"特定の状態におけるブロック全体の磁化を判定\"\"\"\n",
    "    return np.sum(state)"
   ]
  },
  {
   "cell_type": "code",
   "execution_count": 11,
   "metadata": {},
   "outputs": [],
   "source": [
    "def mcmcAdjust(state):\n",
    "    n = state.shape[0]\n",
    "    m = state.shape[1]\n",
    "    x,y = np.random.randint(0,n), np.random.randint(0,m)\n",
    "    centerS = state[x,y]\n",
    "    cost = costForCenterState(state,x,y,n,m)\n",
    "    if cost <0:\n",
    "        centerS *=-1\n",
    "    elif np.random.random()<np.exp(-cost*BETA):\n",
    "        centerS *=-1\n",
    "    state[x,y] = centerS\n",
    "    return state"
   ]
  },
  {
   "cell_type": "code",
   "execution_count": 27,
   "metadata": {},
   "outputs": [],
   "source": [
    "def runState(state,n_steps,snapsteps=None):\n",
    "    if snapsteps is None:\n",
    "        snapsteps = np.linspace(0,n_steps,num=round(n_steps/(N*M*100)),dtype=np.int32)\n",
    "        saved_states=[]\n",
    "        sp=0\n",
    "        magnet_hist = []\n",
    "        for i in range(n_steps):\n",
    "            state = mcmcAdjust(state)\n",
    "            magnet_hist.append(magnetizationForState(state))\n",
    "            if sp < len(snapsteps) and i == snapsteps[sp]:\n",
    "                saved_states.append(np.copy(state))\n",
    "                sp+=1\n",
    "        return state,saved_states,magnet_hist"
   ]
  },
  {
   "cell_type": "code",
   "execution_count": 29,
   "metadata": {},
   "outputs": [
    {
     "name": "stdout",
     "output_type": "stream",
     "text": [
      "[[-1  1 -1  1 -1]\n",
      " [ 1  1  1  1 -1]\n",
      " [-1 -1  1  1  1]\n",
      " [ 1  1 -1  1  1]\n",
      " [-1 -1 -1 -1  1]]\n",
      "[[1 1 1 1 1]\n",
      " [1 1 1 1 1]\n",
      " [1 1 1 1 1]\n",
      " [1 1 1 1 1]\n",
      " [1 1 1 1 1]]\n"
     ]
    }
   ],
   "source": [
    "init_state = initRandState(N,M)\n",
    "print(init_state)\n",
    "final_state = runState(np.copy(init_state),1000)\n",
    "print(final_state[0])"
   ]
  },
  {
   "cell_type": "code",
   "execution_count": 30,
   "metadata": {},
   "outputs": [
    {
     "data": {
      "image/png": "[encoded data removed]",
      "text/plain": [
       "<Figure size 432x288 with 1 Axes>"
      ]
     },
     "metadata": {},
     "output_type": "display_data"
    }
   ],
   "source": [
    "results = []\n",
    "for i in range(100):\n",
    "    init_state = initRandState(N,M)\n",
    "    final_state,states,magnet_hist = runState(init_state,1000)\n",
    "    results.append(magnet_hist)\n",
    "    \n",
    "plt.figure(facecolor=\"white\")\n",
    "for mh in results:\n",
    "    plt.plot(mh,\"r\",alpha=0.2)\n",
    "plt.show()"
   ]
  },
  {
   "cell_type": "code",
   "execution_count": null,
   "metadata": {},
   "outputs": [],
   "source": []
  }
 ],
 "metadata": {
  "kernelspec": {
   "display_name": "Python 3",
   "language": "python",
   "name": "python3"
  },
  "language_info": {
   "codemirror_mode": {
    "name": "ipython",
    "version": 3
   },
   "file_extension": ".py",
   "mimetype": "text/x-python",
   "name": "python",
   "nbconvert_exporter": "python",
   "pygments_lexer": "ipython3",
   "version": "3.8.5"
  },
  "toc": {
   "base_numbering": 1,
   "nav_menu": {},
   "number_sections": true,
   "sideBar": true,
   "skip_h1_title": false,
   "title_cell": "Table of Contents",
   "title_sidebar": "Contents",
   "toc_cell": false,
   "toc_position": {},
   "toc_section_display": true,
   "toc_window_display": false
  }
 },
 "nbformat": 4,
 "nbformat_minor": 4
}
